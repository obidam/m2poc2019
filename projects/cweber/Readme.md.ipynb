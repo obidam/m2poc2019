{
 "cells": [
  {
   "cell_type": "markdown",
   "metadata": {},
   "source": [
    "## Globalement :\n",
    "Le but est de détécter de manière automatique (aveugle), les anneaux des aiguilles (tourbillons) qui s'échappent du courrant des aiguilles au niveau du cap de bonne esperance à partir des données ARGO."
   ]
  },
  {
   "cell_type": "markdown",
   "metadata": {},
   "source": [
    "A l'aide d'un script python, on extrait les données qui nous interessent (ici 0-1400m sur la zone 0-45 / -25/-45)."
   ]
  },
  {
   "cell_type": "markdown",
   "metadata": {},
   "source": [
    "### Clustering - préparation\n",
    "On commence par preprocesser les données : \n",
    "On normalise les donées puis on réduit les données en explicitant le taux de variance que l'on veut être sur d'exploiter (maxvar). Plus on reduit maxvar plus il est facile de tout expliquer avec 1 seule classe. Après avoir réduit les données, on se retrouve avec une dizaine de grandes familles qui expliquent 99.8% des données. "
   ]
  },
  {
   "cell_type": "markdown",
   "metadata": {},
   "source": [
    "### Clustering - GMM\n",
    "On essaye maintenant de trouver plusieurs classes parmi nos données réduites.\n",
    "from sklearn.mixture import GaussianMixture as GMM.\n",
    "On crée ensuite un classifier qui tient compte du nombre de cluster que l'on veut trouver.\n",
    "On \"entraine\" ce classifier à coller à nos données réduites.\n",
    "On lui demande finallement de classer nos données par classe."
   ]
  },
  {
   "cell_type": "markdown",
   "metadata": {},
   "source": [
    "### Visualisation\n",
    "On trace ensuite toute une collection de graphs pour visualiser les données que l'on a classées. \n",
    "Dans notre cas, on voit bien que les \"outlayers à l'est du cap de bonne esperance pourraient correspondre au anneaux des aiguilles. Par contre, il n'y a pas de trace de la retroflexion du courrant."
   ]
  },
  {
   "cell_type": "code",
   "execution_count": null,
   "metadata": {},
   "outputs": [],
   "source": []
  }
 ],
 "metadata": {
  "kernelspec": {
   "display_name": "Python 3",
   "language": "python",
   "name": "python3"
  },
  "language_info": {
   "codemirror_mode": {
    "name": "ipython",
    "version": 3
   },
   "file_extension": ".py",
   "mimetype": "text/x-python",
   "name": "python",
   "nbconvert_exporter": "python",
   "pygments_lexer": "ipython3",
   "version": "3.7.1"
  }
 },
 "nbformat": 4,
 "nbformat_minor": 2
}
