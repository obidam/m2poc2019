{
 "cells": [
  {
   "cell_type": "markdown",
   "metadata": {},
   "source": [
    "# Projet BIG DATA Rémi Lambert - IUEM 2019\n",
    "## Oscillations Australes"
   ]
  },
  {
   "cell_type": "code",
   "execution_count": 63,
   "metadata": {},
   "outputs": [],
   "source": [
    "import os\n",
    "import numpy as np\n",
    "import xarray as xr , dask\n",
    "import matplotlib.pyplot as plt\n",
    "import matplotlib as mpl\n",
    "# from mpl_toolkits.basemap import Basemap as bm\n",
    "# import pandas as pd\n",
    "\n",
    "# http://scikit-learn.org/stable/modules/generated/sklearn.preprocessing.StandardScaler.html\n",
    "from sklearn import preprocessing\n",
    "\n",
    "# http://scikit-learn.org/stable/modules/generated/sklearn.decomposition.PCA.html\n",
    "from sklearn.decomposition import PCA\n",
    "\n",
    "# http://scikit-learn.org/stable/modules/mixture.html\n",
    "from sklearn.mixture import GaussianMixture\n",
    "\n",
    "import seaborn as sns\n",
    "import intake"
   ]
  },
  {
   "cell_type": "markdown",
   "metadata": {},
   "source": [
    "## Load data"
   ]
  },
  {
   "cell_type": "code",
   "execution_count": 64,
   "metadata": {},
   "outputs": [
    {
     "name": "stdout",
     "output_type": "stream",
     "text": [
      "<xarray.Dataset>\n",
      "Dimensions:  (lat: 37, lon: 144, time: 102272)\n",
      "Coordinates:\n",
      "  * lat      (lat) float32 0.0 -2.5 -5.0 -7.5 -10.0 ... -82.5 -85.0 -87.5 -90.0\n",
      "  * lon      (lon) float32 0.0 2.5 5.0 7.5 10.0 ... 350.0 352.5 355.0 357.5\n",
      "  * time     (time) datetime64[ns] 1948-01-01 ... 2017-12-31T18:00:00\n",
      "Data variables:\n",
      "    slp      (time, lat, lon) float32 dask.array<shape=(102272, 37, 144), chunksize=(1460, 37, 144)>\n",
      "Attributes:\n",
      "    Conventions:    COARDS\n",
      "    References:     http://www.esrl.noaa.gov/psd/data/gridded/data.ncep.reana...\n",
      "    dataset_title:  NCEP-NCAR Reanalysis 1\n",
      "    description:    Data is from NMC initialized reanalysis\\n(4x/day).  It co...\n",
      "    history:        created 99/05/11 by Hoop (netCDF2.3)\\nConverted to chunke...\n",
      "    platform:       Model\n",
      "    title:          4x daily NMC reanalysis (1948)\n"
     ]
    }
   ],
   "source": [
    "ds = xr.open_zarr('ncep1_slp_hem_south.zarr')\n",
    "print(ds)"
   ]
  },
  {
   "cell_type": "code",
   "execution_count": 65,
   "metadata": {},
   "outputs": [
    {
     "name": "stdout",
     "output_type": "stream",
     "text": [
      "<xarray.Dataset>\n",
      "Dimensions:  (lat: 37, lon: 144, time: 840)\n",
      "Coordinates:\n",
      "  * time     (time) datetime64[ns] 1948-01-31 1948-02-29 ... 2017-12-31\n",
      "  * lat      (lat) float32 0.0 -2.5 -5.0 -7.5 -10.0 ... -82.5 -85.0 -87.5 -90.0\n",
      "  * lon      (lon) float32 0.0 2.5 5.0 7.5 10.0 ... 350.0 352.5 355.0 357.5\n",
      "Data variables:\n",
      "    slp      (time, lat, lon) float32 dask.array<shape=(840, 37, 144), chunksize=(1, 37, 144)>\n"
     ]
    }
   ],
   "source": [
    "#moyenne mensuelle\n",
    "ds=ds.resample(time='1M').mean()\n",
    "print(ds)"
   ]
  },
  {
   "cell_type": "markdown",
   "metadata": {},
   "source": [
    "## Remove the seasonal cycle\n",
    "(valeur-valeur moyenne du mois)"
   ]
  },
  {
   "cell_type": "code",
   "execution_count": 66,
   "metadata": {},
   "outputs": [
    {
     "name": "stdout",
     "output_type": "stream",
     "text": [
      "<xarray.Dataset>\n",
      "Dimensions:  (lat: 37, lon: 144, time: 840)\n",
      "Coordinates:\n",
      "  * time     (time) datetime64[ns] 1948-01-31 1948-02-29 ... 2017-12-31\n",
      "  * lat      (lat) float32 0.0 -2.5 -5.0 -7.5 -10.0 ... -82.5 -85.0 -87.5 -90.0\n",
      "  * lon      (lon) float32 0.0 2.5 5.0 7.5 10.0 ... 350.0 352.5 355.0 357.5\n",
      "    month    (time) int64 1 2 3 4 5 6 7 8 9 10 11 ... 2 3 4 5 6 7 8 9 10 11 12\n",
      "Data variables:\n",
      "    slp      (time, lat, lon) float32 dask.array<shape=(840, 37, 144), chunksize=(1, 37, 144)>\n",
      "    slp_ano  (time, lat, lon) float32 dask.array<shape=(840, 37, 144), chunksize=(840, 37, 144)>\n"
     ]
    }
   ],
   "source": [
    "climatology = ds.groupby('time.month').mean('time')\n",
    "\n",
    "ds['slp_ano']= ds['slp'].groupby('time.month') - climatology['slp']\n",
    "print(ds)"
   ]
  },
  {
   "cell_type": "code",
   "execution_count": 67,
   "metadata": {},
   "outputs": [
    {
     "name": "stdout",
     "output_type": "stream",
     "text": [
      "<xarray.Dataset>\n",
      "Dimensions:   (features: 5328, time: 840)\n",
      "Coordinates:\n",
      "  * time      (time) datetime64[ns] 1948-01-31 1948-02-29 ... 2017-12-31\n",
      "    month     (time) int64 1 2 3 4 5 6 7 8 9 10 11 ... 2 3 4 5 6 7 8 9 10 11 12\n",
      "  * features  (features) MultiIndex\n",
      "  - lon       (features) float64 0.0 0.0 0.0 0.0 0.0 0.0 ... 0.0 0.0 0.0 0.0 0.0\n",
      "  - lat       (features) float64 0.0 -2.5 -5.0 -7.5 ... -65.0 -67.5 -70.0 -72.5\n",
      "Data variables:\n",
      "    slp       (time, features) float32 dask.array<shape=(840, 5328), chunksize=(1, 5328)>\n",
      "    slp_ano   (time, features) float32 dask.array<shape=(840, 5328), chunksize=(840, 5328)>\n"
     ]
    }
   ],
   "source": [
    "#creation du features(lon,lat), time correspond au sample\n",
    "ds=ds.stack(features=['lon','lat'])\n",
    "print(ds)"
   ]
  },
  {
   "cell_type": "markdown",
   "metadata": {},
   "source": [
    "## Normalization"
   ]
  },
  {
   "cell_type": "code",
   "execution_count": 68,
   "metadata": {},
   "outputs": [
    {
     "name": "stdout",
     "output_type": "stream",
     "text": [
      "<xarray.Dataset>\n",
      "Dimensions:   (features: 5328, time: 840)\n",
      "Coordinates:\n",
      "  * features  (features) MultiIndex\n",
      "  - lon       (features) float64 0.0 0.0 0.0 0.0 0.0 0.0 ... 0.0 0.0 0.0 0.0 0.0\n",
      "  - lat       (features) float64 0.0 -2.5 -5.0 -7.5 ... -65.0 -67.5 -70.0 -72.5\n",
      "  * time      (time) datetime64[ns] 1948-01-31 1948-02-29 ... 2017-12-31\n",
      "    month     (time) int64 1 2 3 4 5 6 7 8 9 10 11 ... 2 3 4 5 6 7 8 9 10 11 12\n",
      "Data variables:\n",
      "    slp       (time, features) float32 dask.array<shape=(840, 5328), chunksize=(1, 5328)>\n",
      "    slp_ano   (time, features) float32 dask.array<shape=(840, 5328), chunksize=(840, 5328)>\n",
      "    slp_norm  (time, features) float32 -0.108277865 -0.18743016 ... -0.45694748\n"
     ]
    }
   ],
   "source": [
    "X=ds.slp_ano\n",
    "\n",
    "# Fit the scaler object:\n",
    "scaler = preprocessing.StandardScaler()\n",
    "scaler = scaler.fit(X)\n",
    "\n",
    "# Normalize data:\n",
    "\n",
    "Xn=scaler.transform(X)\n",
    "ds['slp_norm'] = xr.DataArray(Xn, dims=['time','features'])\n",
    "ds.slp_norm.shape\n",
    "print(ds)"
   ]
  },
  {
   "cell_type": "markdown",
   "metadata": {},
   "source": [
    "## Reduction"
   ]
  },
  {
   "cell_type": "code",
   "execution_count": 69,
   "metadata": {},
   "outputs": [
    {
     "name": "stdout",
     "output_type": "stream",
     "text": [
      "(840, 396)\n"
     ]
    }
   ],
   "source": [
    "Xo=ds.slp_norm\n",
    "\n",
    "maxvar = 99.9\n",
    "\n",
    "# Compute P (the EOFs) from x:\n",
    "reducer = PCA(n_components=maxvar/100,svd_solver='full')\n",
    "reducer.fit(Xo)\n",
    "\n",
    "# Reduce the dataset (compute the y):\n",
    "Xr = reducer.transform(Xo) # Here we compute: np.dot(Xn - reducer.mean_, np.transpose(reducer.components_))\n",
    "print(Xr.shape)"
   ]
  },
  {
   "cell_type": "markdown",
   "metadata": {},
   "source": [
    "## Clustering with KMeans"
   ]
  },
  {
   "cell_type": "code",
   "execution_count": 70,
   "metadata": {},
   "outputs": [
    {
     "name": "stdout",
     "output_type": "stream",
     "text": [
      "Cluster centers shape: (2, 396)\n",
      "Cluster centers:\n",
      " [[-2.52386036e+01 -1.15003395e+00 -7.39879608e-01  5.80838561e-01\n",
      "  -2.46736273e-01  3.87288332e-01  3.03464115e-01 -2.27508843e-01\n",
      "  -1.45337507e-01 -6.46843836e-02  5.62299788e-01 -8.14841166e-02\n",
      "   1.38143256e-01  1.27728820e-01 -1.74273215e-02 -1.60657614e-01\n",
      "   9.80077758e-02 -1.16405115e-02 -8.99246484e-02  1.38511017e-01\n",
      "   2.42953926e-01  2.12755818e-02 -7.39552006e-02  1.01740852e-01\n",
      "   6.22557476e-02  7.92106614e-03  1.79930374e-01  3.45326550e-02\n",
      "  -2.47056484e-02 -9.01021156e-03 -5.39560877e-02  5.99443959e-03\n",
      "  -1.57746226e-02 -1.99231021e-02 -2.97831167e-02  1.85152903e-01\n",
      "  -7.20878914e-02  1.55923096e-02 -5.53097129e-02 -5.07927127e-02\n",
      "  -8.48472640e-02  4.02457491e-02  1.39667243e-01 -1.64895952e-02\n",
      "  -1.10754315e-02 -1.00404233e-01 -1.37420101e-02 -4.53125359e-03\n",
      "  -6.98530972e-02  3.85378227e-02  4.33326811e-02  6.98363855e-02\n",
      "  -4.62163799e-02 -8.45210254e-03  1.73107330e-02  1.99870132e-02\n",
      "  -8.25995952e-02  2.51976848e-02  3.94645184e-02 -1.69962123e-02\n",
      "  -6.77657723e-02  4.95667681e-02 -5.39996028e-02  2.41844375e-02\n",
      "   4.60493229e-02 -2.37249001e-03  8.81432928e-03  8.24160688e-03\n",
      "  -6.18962198e-02  4.96070320e-03  8.10772832e-03  2.95187514e-02\n",
      "  -3.29130404e-02 -2.75685592e-03 -3.10004763e-02  2.14851014e-02\n",
      "  -2.86602471e-02 -1.51036903e-02 -2.73133311e-02  1.20267430e-02\n",
      "   3.10408473e-02  4.91404310e-02  4.84956726e-02 -4.03499380e-02\n",
      "  -3.98883633e-02  4.02291454e-02  9.68985353e-03 -2.62988731e-02\n",
      "   3.61087099e-02  1.69741455e-02  9.38307308e-03  4.96625938e-02\n",
      "  -3.88806351e-02  2.82274578e-02 -1.37734914e-03 -1.26167396e-02\n",
      "   1.03977695e-02  8.14200286e-03  2.70905178e-02 -2.50470563e-04\n",
      "   9.91964061e-03 -2.64022499e-02  2.17561349e-02 -1.81102399e-02\n",
      "   2.26116483e-03  2.00705901e-02  2.20191032e-02  2.59266682e-02\n",
      "   2.30021775e-02 -7.38960458e-03  3.42121418e-03 -1.95010602e-02\n",
      "   2.21769363e-02 -2.74964590e-02  6.17622398e-04 -1.24233207e-02\n",
      "  -8.42414424e-03  2.52578370e-02 -1.45883085e-02 -2.87989853e-03\n",
      "  -7.38034351e-03 -1.88064910e-02  1.28803467e-02  1.95410866e-02\n",
      "   9.36945714e-03  1.51842311e-02 -2.20509153e-02  2.83069443e-02\n",
      "  -2.07298826e-02 -2.51856763e-02 -1.88049711e-02 -5.60735166e-02\n",
      "   7.58679397e-03  2.72574183e-02  1.54903224e-02  3.97735462e-03\n",
      "   1.27504990e-02 -2.79186927e-02  6.59965118e-03 -1.82521511e-02\n",
      "  -2.82813702e-02 -2.84590758e-02 -2.37459000e-02 -9.69376415e-03\n",
      "   3.13100102e-03  1.31140510e-03  2.13995948e-02 -2.60243155e-02\n",
      "   1.61721073e-02  4.86864801e-03 -2.79375762e-02  1.58401281e-02\n",
      "  -2.99310479e-02 -1.15898885e-02 -3.24893766e-03  2.65075862e-02\n",
      "  -6.29852002e-04  2.15691216e-02 -2.65722792e-03 -2.12846766e-03\n",
      "  -2.18621735e-03  4.10800288e-03  1.83540229e-02 -5.57815749e-03\n",
      "   3.34721133e-02 -1.72096826e-02  3.38943239e-04  9.29578952e-03\n",
      "  -1.68666057e-02  6.60843542e-03  6.80840993e-03  2.38198005e-02\n",
      "  -1.98416281e-02  3.37819423e-04  1.60184111e-02  6.47538155e-03\n",
      "   1.13430182e-02 -1.86538994e-02 -1.34632690e-02  2.94014090e-03\n",
      "  -1.74744334e-03 -1.69607792e-02 -2.02514254e-03  1.48937823e-02\n",
      "   7.67562352e-03  1.43994223e-02  1.62137125e-03  2.57857591e-02\n",
      "   2.28704363e-02 -1.01772975e-03  6.96945516e-03 -1.04549490e-02\n",
      "   1.26059894e-02  1.32850111e-02  1.91068288e-03  6.40167436e-03\n",
      "  -1.37211066e-02 -5.83189400e-03 -1.38608674e-02 -8.28965288e-03\n",
      "  -6.45271910e-04  9.05191468e-04  1.97854750e-02 -3.32647678e-03\n",
      "  -5.47134364e-03  1.86096004e-03 -5.04220137e-03 -4.87538194e-03\n",
      "  -1.73209757e-02  4.34568152e-03  5.29548619e-04 -3.33139877e-04\n",
      "   8.95515271e-03 -7.04599079e-05  4.50947927e-03 -1.25113698e-02\n",
      "  -8.85682926e-03 -9.84693132e-03 -3.68791912e-03  2.41424865e-03\n",
      "  -1.82860764e-03 -8.95609427e-03  6.12067152e-03  9.20564122e-03\n",
      "  -1.76051958e-03  2.05049794e-02 -5.11571812e-03 -6.86153164e-03\n",
      "   3.08495690e-03 -1.22612156e-02  3.80421733e-03 -1.15332482e-02\n",
      "   8.38274416e-03 -6.28868164e-03 -1.11928144e-02 -4.81651817e-03\n",
      "   5.52667538e-03  2.36528995e-03  7.11395260e-05  6.39421807e-04\n",
      "  -9.20133432e-04  4.56113787e-03 -8.63872934e-03 -1.23948306e-02\n",
      "   6.77148206e-03  1.35433837e-03 -1.14377122e-02  1.62868667e-02\n",
      "  -7.61122396e-03  2.15473748e-03  1.30765419e-02 -7.48057198e-03\n",
      "  -3.40636354e-03 -1.06710242e-03  6.52035559e-03  2.24436750e-04\n",
      "  -1.73548330e-02  8.31750687e-03  2.06837154e-04  1.14494644e-03\n",
      "   8.54216982e-03  5.83352335e-03  3.22321639e-03 -6.07826794e-03\n",
      "   6.57640863e-03 -6.12690765e-03 -7.56473746e-03 -7.10051914e-04\n",
      "  -1.42851414e-03 -8.62978306e-03 -8.38056579e-03 -6.69063593e-05\n",
      "  -4.90807509e-03  5.52460412e-03  9.55556892e-03  1.37864589e-03\n",
      "   8.39368626e-03  1.20255314e-02 -5.18515846e-03 -6.69519557e-03\n",
      "   1.53009733e-02 -2.09552422e-03  4.14335215e-03 -6.13038847e-03\n",
      "  -1.88338745e-03 -1.06526364e-03 -8.93676095e-03 -6.78986358e-03\n",
      "   4.02116543e-03 -1.84375001e-03 -6.82019675e-03 -1.82330725e-04\n",
      "  -3.46480729e-03 -3.64599633e-04 -7.67688174e-03  3.75094172e-03\n",
      "   1.65555328e-02 -9.33571602e-04  7.12223584e-03  8.76015052e-03\n",
      "   2.67608208e-03  8.47173668e-03  4.41128062e-03 -5.74608054e-03\n",
      "  -7.70926755e-03  2.32443516e-03  2.37694476e-03  7.74901360e-03\n",
      "   4.14112117e-03  7.72401178e-03 -1.52113603e-03  3.42544331e-03\n",
      "  -4.77242470e-03  3.42683541e-03  6.48784032e-03 -2.83913361e-03\n",
      "   3.86821310e-04  3.30130081e-03  1.04402643e-04  1.46426191e-03\n",
      "  -2.06728536e-03  1.35249412e-02  2.83951731e-03 -6.29848288e-03\n",
      "   1.08297495e-02 -2.30834563e-03  2.62153009e-03  2.78173806e-03\n",
      "   7.32881436e-03  7.34845293e-04 -2.72378838e-03  1.36870528e-02\n",
      "  -1.28895231e-03 -8.16248078e-03  3.92607134e-03 -1.72508461e-03\n",
      "   9.51157138e-03 -1.92371535e-03 -6.43970445e-03  6.97421562e-03\n",
      "   4.74943547e-03  1.66627590e-03 -4.75973310e-03 -3.47562646e-03\n",
      "  -1.87598390e-03  1.46674237e-03  1.23228517e-03 -2.52652424e-03\n",
      "  -1.83956395e-03 -3.29855829e-04 -4.30041924e-03  1.44167535e-03\n",
      "  -1.20962586e-03  7.69203249e-03  7.70856719e-03  3.78242601e-03\n",
      "  -3.13443341e-03 -3.38283507e-03 -8.67643021e-03  2.35599885e-03\n",
      "   3.25862272e-03 -1.56782870e-03  4.43368190e-04  4.56323614e-03\n",
      "   1.78809802e-03  9.53896553e-04  6.19683997e-04 -6.47643954e-03\n",
      "   9.80331562e-04 -6.71983976e-03  2.06262525e-03  4.00284212e-03\n",
      "   3.68920108e-03  5.42296795e-03 -1.33147906e-03  4.47178725e-03\n",
      "   5.43581264e-04 -3.33394302e-04  6.39571575e-04  1.17708487e-03\n",
      "  -6.55019190e-04  3.14332731e-03  1.33016743e-04  3.19164200e-03\n",
      "  -1.22424320e-03 -1.14748452e-03  4.05524019e-03  4.17336402e-03\n",
      "   3.13916476e-03  1.05758361e-03 -6.46949606e-03 -1.14903343e-03\n",
      "   1.27169769e-03 -2.48110411e-03  7.49940926e-04  5.38110849e-04]\n",
      " [ 3.62118988e+01  1.65004897e+00  1.06156731e+00 -8.33376765e-01\n",
      "   3.54013175e-01 -5.55674434e-01 -4.35404658e-01  3.26425403e-01\n",
      "   2.08528206e-01  9.28089395e-02 -8.06778431e-01  1.16911590e-01\n",
      "  -1.98205531e-01 -1.83264256e-01  2.50046458e-02  2.30509102e-01\n",
      "  -1.40619576e-01  1.67016033e-02  1.29021645e-01 -1.98731571e-01\n",
      "  -3.48586053e-01 -3.05256117e-02  1.06110312e-01 -1.45976558e-01\n",
      "  -8.93236026e-02 -1.13657173e-02 -2.58160830e-01 -4.95471135e-02\n",
      "   3.54471765e-02  1.29271885e-02  7.74155110e-02 -8.60092044e-03\n",
      "   2.26331409e-02  2.85848994e-02  4.27312776e-02 -2.65654355e-01\n",
      "   1.03430398e-01 -2.23713927e-02  7.93577135e-02  7.28764758e-02\n",
      "   1.21736988e-01 -5.77436760e-02 -2.00391918e-01  2.36584824e-02\n",
      "   1.58909857e-02  1.44058406e-01  1.97169986e-02  6.50140969e-03\n",
      "   1.00224219e-01 -5.52935004e-02 -6.21732734e-02 -1.00199871e-01\n",
      "   6.63099810e-02  1.21271275e-02 -2.48369388e-02 -2.86767576e-02\n",
      "   1.18512586e-01 -3.61533165e-02 -5.66234440e-02  2.43856460e-02\n",
      "   9.72290486e-02 -7.11173862e-02  7.74779096e-02 -3.46996076e-02\n",
      "  -6.60706386e-02  3.40367854e-03 -1.26471687e-02 -1.18247764e-02\n",
      "   8.88079703e-02 -7.11708143e-03 -1.16324071e-02 -4.23530415e-02\n",
      "   4.72230203e-02  3.95529764e-03  4.44788970e-02 -3.08262333e-02\n",
      "   4.11213972e-02  2.16708761e-02  3.91887985e-02 -1.72556024e-02\n",
      "  -4.45368402e-02 -7.05059692e-02 -6.95807561e-02  5.78936227e-02\n",
      "   5.72310798e-02 -5.77201396e-02 -1.39027219e-02  3.77332643e-02\n",
      "  -5.18083386e-02 -2.43538450e-02 -1.34624420e-02 -7.12551400e-02\n",
      "   5.57851307e-02 -4.04999703e-02  1.97635475e-03  1.81022901e-02\n",
      "  -1.49183776e-02 -1.16819339e-02 -3.88688110e-02  3.59323894e-04\n",
      "  -1.42326374e-02  3.78814526e-02 -3.12156621e-02  2.59841178e-02\n",
      "  -3.24426335e-03 -2.87968460e-02 -3.15925740e-02 -3.71990465e-02\n",
      "  -3.30030210e-02  1.06025133e-02 -4.90875402e-03  2.79798657e-02\n",
      "  -3.18192467e-02  3.94513123e-02 -8.85684683e-04  1.78248975e-02\n",
      "   1.20870210e-02 -3.62396501e-02  2.09308118e-02  4.13184473e-03\n",
      "   1.05889607e-02  2.69830711e-02 -1.84804127e-02 -2.80372240e-02\n",
      "  -1.34430267e-02 -2.17864271e-02  3.16383429e-02 -4.06143107e-02\n",
      "   2.97430996e-02  3.61361466e-02  2.69805640e-02  8.04537162e-02\n",
      "  -1.08851548e-02 -3.91085818e-02 -2.22256072e-02 -5.70661295e-03\n",
      "  -1.82940308e-02  4.00576182e-02 -9.46891028e-03  2.61877328e-02\n",
      "   4.05774601e-02  4.08326313e-02  3.40703391e-02  1.39083071e-02\n",
      "  -4.49246168e-03 -1.88151724e-03 -3.07038464e-02  3.73392850e-02\n",
      "  -2.32032705e-02 -6.98540173e-03  4.00843993e-02 -2.27270219e-02\n",
      "   4.29443233e-02  1.66288409e-02  4.66129417e-03 -3.80326584e-02\n",
      "   9.03646753e-04 -3.09468973e-02  3.81241529e-03  3.05419904e-03\n",
      "   3.13688302e-03 -5.89405186e-03 -2.63339188e-02  8.00323952e-03\n",
      "  -4.80251536e-02  2.46924330e-02 -4.86035307e-04 -1.33372983e-02\n",
      "   2.42000502e-02 -9.48163960e-03 -9.76857264e-03 -3.41760814e-02\n",
      "   2.84682233e-02 -4.84544638e-04 -2.29828637e-02 -9.29065514e-03\n",
      "  -1.62746552e-02  2.67645139e-02  1.93170905e-02 -4.21835622e-03\n",
      "   2.50682095e-03  2.43350025e-02  2.90550198e-03 -2.13691182e-02\n",
      "  -1.10128308e-02 -2.06597541e-02 -2.32645357e-03 -3.69972549e-02\n",
      "  -3.28138843e-02  1.46016362e-03 -9.99995600e-03  1.50002176e-02\n",
      "  -1.80868208e-02 -1.90612562e-02 -2.74130586e-03 -9.18486807e-03\n",
      "   1.96868535e-02  8.36732425e-03  1.98870059e-02  1.18940910e-02\n",
      "   9.25993081e-04 -1.29840476e-03 -2.83877254e-02  4.77279024e-03\n",
      "   7.85013381e-03 -2.66983733e-03  7.23426742e-03  6.99489051e-03\n",
      "   2.48521753e-02 -6.23504724e-03 -7.59778137e-04  4.77920956e-04\n",
      "  -1.28484638e-02  1.00860256e-04 -6.46993564e-03  1.79509539e-02\n",
      "   1.27074253e-02  1.41283264e-02  5.29156579e-03 -3.46412114e-03\n",
      "   2.62372964e-03  1.28498822e-02 -8.78162589e-03 -1.32081788e-02\n",
      "   2.52580876e-03 -2.94204652e-02  7.34027289e-03  9.84474085e-03\n",
      "  -4.42601554e-03  1.75920501e-02 -5.45855192e-03  1.65480189e-02\n",
      "  -1.20274778e-02  9.02280957e-03  1.60591658e-02  6.91080885e-03\n",
      "  -7.92943873e-03 -3.39352293e-03 -1.02347389e-04 -9.17728990e-04\n",
      "   1.32009434e-03 -6.54415181e-03  1.23946732e-02  1.77839939e-02\n",
      "  -9.71570518e-03 -1.94309792e-03  1.64106712e-02 -2.33680420e-02\n",
      "   1.09205283e-02 -3.09164333e-03 -1.87620763e-02  1.07330866e-02\n",
      "   4.88733407e-03  1.53111794e-03 -9.35529917e-03 -3.21947795e-04\n",
      "   2.49001589e-02 -1.19338511e-02 -2.96545215e-04 -1.64269190e-03\n",
      "  -1.22557897e-02 -8.36962461e-03 -4.62439051e-03  8.72121938e-03\n",
      "  -9.43548791e-03  8.79103132e-03  1.08539993e-02  1.01883279e-03\n",
      "   2.04983074e-03  1.23818694e-02  1.20243598e-02  9.62961640e-05\n",
      "   7.04193581e-03 -7.92665128e-03 -1.37103554e-02 -1.97811890e-03\n",
      "  -1.20431753e-02 -1.72541589e-02  7.43970135e-03  9.60587990e-03\n",
      "  -2.19535381e-02  3.00657330e-03 -5.94483083e-03  8.79567303e-03\n",
      "   2.70216004e-03  1.52834819e-03  1.28225619e-02  9.74209886e-03\n",
      "  -5.76976780e-03  2.64568627e-03  9.78542585e-03  2.61548877e-04\n",
      "   4.97105485e-03  5.22821210e-04  1.10147437e-02 -5.38174156e-03\n",
      "  -2.37537380e-02  1.33951334e-03 -1.02187134e-02 -1.25688082e-02\n",
      "  -3.83955496e-03 -1.21550355e-02 -6.32958999e-03  8.24391656e-03\n",
      "   1.10610807e-02 -3.33501562e-03 -3.41018476e-03 -1.11182192e-02\n",
      "  -5.94172115e-03 -1.10821193e-02  2.18282989e-03 -4.91487142e-03\n",
      "   6.84729125e-03 -4.91692498e-03 -9.30839498e-03  4.07387456e-03\n",
      "  -5.54856961e-04 -4.73666796e-03 -1.49745698e-04 -2.10074452e-03\n",
      "   2.96621700e-03 -1.94053054e-02 -4.07431927e-03  9.03698802e-03\n",
      "  -1.55384690e-02  3.31192208e-03 -3.76168359e-03 -3.99169279e-03\n",
      "  -1.05152549e-02 -1.05447182e-03  3.90829984e-03 -1.96378492e-02\n",
      "   1.84933410e-03  1.17114289e-02 -5.63320704e-03  2.47516204e-03\n",
      "  -1.36471381e-02  2.75992695e-03  9.23965685e-03 -1.00066941e-02\n",
      "  -6.81454362e-03 -2.39069015e-03  6.82957610e-03  4.98667220e-03\n",
      "   2.69180629e-03 -2.10450217e-03 -1.76811346e-03  3.62501224e-03\n",
      "   2.63960846e-03  4.73620312e-04  6.17049867e-03 -2.06835335e-03\n",
      "   1.73567771e-03 -1.10361427e-02 -1.10597955e-02 -5.42685622e-03\n",
      "   4.49698931e-03  4.85352008e-03  1.24486266e-02 -3.38047603e-03\n",
      "  -4.67571756e-03  2.24971655e-03 -6.36186509e-04 -6.54715206e-03\n",
      "  -2.56547704e-03 -1.36846572e-03 -8.89012823e-04  9.29220021e-03\n",
      "  -1.40679476e-03  9.64189414e-03 -2.95929774e-03 -5.74281253e-03\n",
      "  -5.29297907e-03 -7.78054679e-03  1.91012176e-03 -6.41583465e-03\n",
      "  -7.79970316e-04  4.78531205e-04 -9.17986152e-04 -1.68854755e-03\n",
      "   9.39837366e-04 -4.50980803e-03 -1.90683873e-04 -4.57932521e-03\n",
      "   1.75655889e-03  1.64626527e-03 -5.81820216e-03 -5.98763069e-03\n",
      "  -4.50366642e-03 -1.51749433e-03  9.28222388e-03  1.64858170e-03\n",
      "  -1.82465033e-03  3.55980336e-03 -1.07602275e-03 -7.72020139e-04]]\n",
      "<xarray.Dataset>\n",
      "Dimensions:   (features: 5328, time: 840)\n",
      "Coordinates:\n",
      "  * time      (time) datetime64[ns] 1948-01-31 1948-02-29 ... 2017-12-31\n",
      "  * features  (features) MultiIndex\n",
      "  - lon       (features) float64 0.0 0.0 0.0 0.0 0.0 0.0 ... 0.0 0.0 0.0 0.0 0.0\n",
      "  - lat       (features) float64 0.0 -2.5 -5.0 -7.5 ... -65.0 -67.5 -70.0 -72.5\n",
      "    month     (time) int64 1 2 3 4 5 6 7 8 9 10 11 ... 2 3 4 5 6 7 8 9 10 11 12\n",
      "Data variables:\n",
      "    slp       (time, features) float32 dask.array<shape=(840, 5328), chunksize=(1, 5328)>\n",
      "    slp_ano   (time, features) float32 dask.array<shape=(840, 5328), chunksize=(840, 5328)>\n",
      "    slp_norm  (time, features) float32 -0.108277865 -0.18743016 ... -0.45694748\n",
      "    Labels    (time) int32 1 1 1 1 0 1 1 1 1 1 1 1 1 ... 1 0 0 0 0 0 0 0 0 1 0 0\n"
     ]
    }
   ],
   "source": [
    "from sklearn.cluster import KMeans\n",
    "\n",
    "n_clusters=2\n",
    "\n",
    "# Create the classifier:\n",
    "kmeans = KMeans(n_clusters, random_state=0)\n",
    "\n",
    "# Train the classifier:\n",
    "kmeans.fit(Xr)\n",
    "\n",
    "# Classify the dataset:\n",
    "labels = kmeans.predict(Xr)\n",
    "ds['Labels']=xr.DataArray(labels,dims=['time'])\n",
    "\n",
    "#\n",
    "n_clusters_ = kmeans.n_clusters\n",
    "print(\"Cluster centers shape:\",kmeans.cluster_centers_.shape)\n",
    "print(\"Cluster centers:\\n\",kmeans.cluster_centers_)\n",
    "print(ds)"
   ]
  },
  {
   "cell_type": "code",
   "execution_count": 71,
   "metadata": {},
   "outputs": [],
   "source": [
    "class0 = np.zeros((sum(labels == 0),len(Xr[1])))\n",
    "class1 = np.zeros((sum(labels == 1),len(Xr[1])))"
   ]
  },
  {
   "cell_type": "code",
   "execution_count": 75,
   "metadata": {},
   "outputs": [
    {
     "name": "stdout",
     "output_type": "stream",
     "text": [
      "<xarray.Dataset>\n",
      "Dimensions:   (lat: 37, lon: 144, time: 495)\n",
      "Coordinates:\n",
      "  * time      (time) datetime64[ns] 1948-05-31 1949-04-30 ... 2017-12-31\n",
      "    month     (time) int64 5 4 5 6 11 1 6 3 1 2 6 9 ... 12 2 3 4 5 6 7 8 9 11 12\n",
      "  * lon       (lon) float64 0.0 2.5 5.0 7.5 10.0 ... 350.0 352.5 355.0 357.5\n",
      "  * lat       (lat) float64 0.0 -2.5 -5.0 -7.5 -10.0 ... -82.5 -85.0 -87.5 -90.0\n",
      "Data variables:\n",
      "    slp       (time, lon, lat) float32 dask.array<shape=(495, 144, 37), chunksize=(1, 144, 37)>\n",
      "    slp_ano   (time, lon, lat) float32 dask.array<shape=(495, 144, 37), chunksize=(495, 144, 37)>\n",
      "    slp_norm  (time, lon, lat) float32 0.49483827 0.57548034 ... -0.45694748\n",
      "    Labels    (time) float64 0.0 0.0 0.0 0.0 0.0 0.0 ... 0.0 0.0 0.0 0.0 0.0 0.0 <xarray.Dataset>\n",
      "Dimensions:   (lat: 37, lon: 144, time: 345)\n",
      "Coordinates:\n",
      "  * time      (time) datetime64[ns] 1948-01-31 1948-02-29 ... 2017-10-31\n",
      "    month     (time) int64 1 2 3 4 6 7 8 9 10 11 12 ... 7 11 11 12 8 9 9 11 1 10\n",
      "  * lon       (lon) float64 0.0 2.5 5.0 7.5 10.0 ... 350.0 352.5 355.0 357.5\n",
      "  * lat       (lat) float64 0.0 -2.5 -5.0 -7.5 -10.0 ... -82.5 -85.0 -87.5 -90.0\n",
      "Data variables:\n",
      "    slp       (time, lon, lat) float32 dask.array<shape=(345, 144, 37), chunksize=(1, 144, 37)>\n",
      "    slp_ano   (time, lon, lat) float32 dask.array<shape=(345, 144, 37), chunksize=(345, 144, 37)>\n",
      "    slp_norm  (time, lon, lat) float32 -0.108277865 -0.18743016 ... 0.56475383\n",
      "    Labels    (time) float64 1.0 1.0 1.0 1.0 1.0 1.0 ... 1.0 1.0 1.0 1.0 1.0 1.0\n"
     ]
    }
   ],
   "source": [
    "lab0 = ds.where(ds['Labels']==0, drop=True).unstack('features')\n",
    "lab1 = ds.where(ds['Labels']==1, drop=True).unstack('features')\n",
    "print(lab0, lab1)"
   ]
  },
  {
   "cell_type": "code",
   "execution_count": 79,
   "metadata": {},
   "outputs": [],
   "source": [
    "slp_clus0 = lab0.mean(dim='time')\n",
    "slp_clus1 = lab1.mean(dim='time')"
   ]
  },
  {
   "cell_type": "code",
   "execution_count": 81,
   "metadata": {},
   "outputs": [
    {
     "data": {
      "text/plain": [
       "<matplotlib.collections.QuadMesh at 0x1124caac8>"
      ]
     },
     "execution_count": 81,
     "metadata": {},
     "output_type": "execute_result"
    },
    {
     "data": {
      "image/png": "[encoded data removed]",
      "text/plain": [
       "<Figure size 432x288 with 2 Axes>"
      ]
     },
     "metadata": {},
     "output_type": "display_data"
    }
   ],
   "source": [
    "slp_clus0['slp_norm'].plot()"
   ]
  },
  {
   "cell_type": "code",
   "execution_count": 82,
   "metadata": {},
   "outputs": [
    {
     "data": {
      "text/plain": [
       "<matplotlib.collections.QuadMesh at 0x1c1a37d208>"
      ]
     },
     "execution_count": 82,
     "metadata": {},
     "output_type": "execute_result"
    },
    {
     "data": {
      "image/png": "[encoded data removed]",
      "text/plain": [
       "<Figure size 432x288 with 2 Axes>"
      ]
     },
     "metadata": {},
     "output_type": "display_data"
    }
   ],
   "source": [
    "slp_clus1['slp_norm'].plot()"
   ]
  },
  {
   "cell_type": "code",
   "execution_count": null,
   "metadata": {},
   "outputs": [],
   "source": []
  }
 ],
 "metadata": {
  "kernelspec": {
   "display_name": "Python 3",
   "language": "python",
   "name": "python3"
  },
  "language_info": {
   "codemirror_mode": {
    "name": "ipython",
    "version": 3
   },
   "file_extension": ".py",
   "mimetype": "text/x-python",
   "name": "python",
   "nbconvert_exporter": "python",
   "pygments_lexer": "ipython3",
   "version": "3.6.5"
  }
 },
 "nbformat": 4,
 "nbformat_minor": 2
}
